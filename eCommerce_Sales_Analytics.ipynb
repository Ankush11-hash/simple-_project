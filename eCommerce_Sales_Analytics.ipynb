{
  "nbformat": 4,
  "nbformat_minor": 0,
  "metadata": {
    "colab": {
      "name": "eCommerce Sales Analytics",
      "provenance": [],
      "authorship_tag": "ABX9TyO4joxtORrVgSR3VivayeK+",
      "include_colab_link": true
    },
    "kernelspec": {
      "name": "python3",
      "display_name": "Python 3"
    }
  },
  "cells": [
    {
      "cell_type": "markdown",
      "metadata": {
        "id": "view-in-github",
        "colab_type": "text"
      },
      "source": [
        "<a href=\"https://colab.research.google.com/github/Ankush11-hash/simple-_project/blob/master/eCommerce_Sales_Analytics.ipynb\" target=\"_parent\"><img src=\"https://colab.research.google.com/assets/colab-badge.svg\" alt=\"Open In Colab\"/></a>"
      ]
    },
    {
      "cell_type": "markdown",
      "metadata": {
        "id": "E9T8bmOKp8u9",
        "colab_type": "text"
      },
      "source": [
        "**eCommerce Sales Analytics**\n",
        "\n",
        "**Problem Statement**\n",
        "\n",
        "Advise a eCommerce company that sells clothing online.\n",
        "\n",
        "The Company is trying to decide whether to focus on mobile app or website\n",
        "\n",
        "Find the correlations between different factors and how they affect on how much the customer spends.\n",
        "\n",
        "---\n",
        "\n"
      ]
    },
    {
      "cell_type": "code",
      "metadata": {
        "id": "W4d2oZLRp6pS",
        "colab_type": "code",
        "colab": {}
      },
      "source": [
        "import pandas as pd\n",
        "import numpy as np\n",
        "import matplotlib.pyplot as plt\n",
        "from pandas.plotting import scatter_matrix"
      ],
      "execution_count": 0,
      "outputs": []
    },
    {
      "cell_type": "code",
      "metadata": {
        "id": "zO8FqA3mpiKt",
        "colab_type": "code",
        "outputId": "5e30d3b0-bc9b-4711-bebc-73d5e473f569",
        "colab": {
          "base_uri": "https://localhost:8080/",
          "height": 33
        }
      },
      "source": [
        "df = pd.read_csv('https://raw.githubusercontent.com/payutech/myecommercecustomersdata/master/EcommerceCustomers.csv')\n",
        "df.shape"
      ],
      "execution_count": 0,
      "outputs": [
        {
          "output_type": "execute_result",
          "data": {
            "text/plain": [
              "(500, 8)"
            ]
          },
          "metadata": {
            "tags": []
          },
          "execution_count": 2
        }
      ]
    },
    {
      "cell_type": "code",
      "metadata": {
        "id": "lBs-6BWNpyHE",
        "colab_type": "code",
        "outputId": "9cf92a54-bca8-4519-b826-b00d7110f826",
        "colab": {
          "base_uri": "https://localhost:8080/",
          "height": 297
        }
      },
      "source": [
        "df.head()"
      ],
      "execution_count": 0,
      "outputs": [
        {
          "output_type": "execute_result",
          "data": {
            "text/html": [
              "<div>\n",
              "<style scoped>\n",
              "    .dataframe tbody tr th:only-of-type {\n",
              "        vertical-align: middle;\n",
              "    }\n",
              "\n",
              "    .dataframe tbody tr th {\n",
              "        vertical-align: top;\n",
              "    }\n",
              "\n",
              "    .dataframe thead th {\n",
              "        text-align: right;\n",
              "    }\n",
              "</style>\n",
              "<table border=\"1\" class=\"dataframe\">\n",
              "  <thead>\n",
              "    <tr style=\"text-align: right;\">\n",
              "      <th></th>\n",
              "      <th>Email</th>\n",
              "      <th>Address</th>\n",
              "      <th>Avatar</th>\n",
              "      <th>Avg. Session Length</th>\n",
              "      <th>Time on App</th>\n",
              "      <th>Time on Website</th>\n",
              "      <th>Length of Membership</th>\n",
              "      <th>Yearly Amount Spent</th>\n",
              "    </tr>\n",
              "  </thead>\n",
              "  <tbody>\n",
              "    <tr>\n",
              "      <th>0</th>\n",
              "      <td>mstephenson@fernandez.com</td>\n",
              "      <td>835 Frank Tunnel\\nWrightmouth, MI 82180-9605</td>\n",
              "      <td>Violet</td>\n",
              "      <td>34.497268</td>\n",
              "      <td>12.655651</td>\n",
              "      <td>39.577668</td>\n",
              "      <td>4.082621</td>\n",
              "      <td>587.951054</td>\n",
              "    </tr>\n",
              "    <tr>\n",
              "      <th>1</th>\n",
              "      <td>hduke@hotmail.com</td>\n",
              "      <td>4547 Archer Common\\nDiazchester, CA 06566-8576</td>\n",
              "      <td>DarkGreen</td>\n",
              "      <td>31.926272</td>\n",
              "      <td>11.109461</td>\n",
              "      <td>37.268959</td>\n",
              "      <td>2.664034</td>\n",
              "      <td>392.204933</td>\n",
              "    </tr>\n",
              "    <tr>\n",
              "      <th>2</th>\n",
              "      <td>pallen@yahoo.com</td>\n",
              "      <td>24645 Valerie Unions Suite 582\\nCobbborough, D...</td>\n",
              "      <td>Bisque</td>\n",
              "      <td>33.000915</td>\n",
              "      <td>11.330278</td>\n",
              "      <td>37.110597</td>\n",
              "      <td>4.104543</td>\n",
              "      <td>487.547505</td>\n",
              "    </tr>\n",
              "    <tr>\n",
              "      <th>3</th>\n",
              "      <td>riverarebecca@gmail.com</td>\n",
              "      <td>1414 David Throughway\\nPort Jason, OH 22070-1220</td>\n",
              "      <td>SaddleBrown</td>\n",
              "      <td>34.305557</td>\n",
              "      <td>13.717514</td>\n",
              "      <td>36.721283</td>\n",
              "      <td>3.120179</td>\n",
              "      <td>581.852344</td>\n",
              "    </tr>\n",
              "    <tr>\n",
              "      <th>4</th>\n",
              "      <td>mstephens@davidson-herman.com</td>\n",
              "      <td>14023 Rodriguez Passage\\nPort Jacobville, PR 3...</td>\n",
              "      <td>MediumAquaMarine</td>\n",
              "      <td>33.330673</td>\n",
              "      <td>12.795189</td>\n",
              "      <td>37.536653</td>\n",
              "      <td>4.446308</td>\n",
              "      <td>599.406092</td>\n",
              "    </tr>\n",
              "  </tbody>\n",
              "</table>\n",
              "</div>"
            ],
            "text/plain": [
              "                           Email  ... Yearly Amount Spent\n",
              "0      mstephenson@fernandez.com  ...          587.951054\n",
              "1              hduke@hotmail.com  ...          392.204933\n",
              "2               pallen@yahoo.com  ...          487.547505\n",
              "3        riverarebecca@gmail.com  ...          581.852344\n",
              "4  mstephens@davidson-herman.com  ...          599.406092\n",
              "\n",
              "[5 rows x 8 columns]"
            ]
          },
          "metadata": {
            "tags": []
          },
          "execution_count": 3
        }
      ]
    },
    {
      "cell_type": "code",
      "metadata": {
        "id": "X0vhOx-2tiAP",
        "colab_type": "code",
        "outputId": "1252bc85-aa88-4c07-ee7f-23f3c7e1cc98",
        "colab": {
          "base_uri": "https://localhost:8080/",
          "height": 286
        }
      },
      "source": [
        "df.describe()"
      ],
      "execution_count": 0,
      "outputs": [
        {
          "output_type": "execute_result",
          "data": {
            "text/html": [
              "<div>\n",
              "<style scoped>\n",
              "    .dataframe tbody tr th:only-of-type {\n",
              "        vertical-align: middle;\n",
              "    }\n",
              "\n",
              "    .dataframe tbody tr th {\n",
              "        vertical-align: top;\n",
              "    }\n",
              "\n",
              "    .dataframe thead th {\n",
              "        text-align: right;\n",
              "    }\n",
              "</style>\n",
              "<table border=\"1\" class=\"dataframe\">\n",
              "  <thead>\n",
              "    <tr style=\"text-align: right;\">\n",
              "      <th></th>\n",
              "      <th>Avg. Session Length</th>\n",
              "      <th>Time on App</th>\n",
              "      <th>Time on Website</th>\n",
              "      <th>Length of Membership</th>\n",
              "      <th>Yearly Amount Spent</th>\n",
              "    </tr>\n",
              "  </thead>\n",
              "  <tbody>\n",
              "    <tr>\n",
              "      <th>count</th>\n",
              "      <td>500.000000</td>\n",
              "      <td>500.000000</td>\n",
              "      <td>500.000000</td>\n",
              "      <td>500.000000</td>\n",
              "      <td>500.000000</td>\n",
              "    </tr>\n",
              "    <tr>\n",
              "      <th>mean</th>\n",
              "      <td>33.053194</td>\n",
              "      <td>12.052488</td>\n",
              "      <td>37.060445</td>\n",
              "      <td>3.533462</td>\n",
              "      <td>499.314038</td>\n",
              "    </tr>\n",
              "    <tr>\n",
              "      <th>std</th>\n",
              "      <td>0.992563</td>\n",
              "      <td>0.994216</td>\n",
              "      <td>1.010489</td>\n",
              "      <td>0.999278</td>\n",
              "      <td>79.314782</td>\n",
              "    </tr>\n",
              "    <tr>\n",
              "      <th>min</th>\n",
              "      <td>29.532429</td>\n",
              "      <td>8.508152</td>\n",
              "      <td>33.913847</td>\n",
              "      <td>0.269901</td>\n",
              "      <td>256.670582</td>\n",
              "    </tr>\n",
              "    <tr>\n",
              "      <th>25%</th>\n",
              "      <td>32.341822</td>\n",
              "      <td>11.388153</td>\n",
              "      <td>36.349257</td>\n",
              "      <td>2.930450</td>\n",
              "      <td>445.038277</td>\n",
              "    </tr>\n",
              "    <tr>\n",
              "      <th>50%</th>\n",
              "      <td>33.082008</td>\n",
              "      <td>11.983231</td>\n",
              "      <td>37.069367</td>\n",
              "      <td>3.533975</td>\n",
              "      <td>498.887875</td>\n",
              "    </tr>\n",
              "    <tr>\n",
              "      <th>75%</th>\n",
              "      <td>33.711985</td>\n",
              "      <td>12.753850</td>\n",
              "      <td>37.716432</td>\n",
              "      <td>4.126502</td>\n",
              "      <td>549.313828</td>\n",
              "    </tr>\n",
              "    <tr>\n",
              "      <th>max</th>\n",
              "      <td>36.139662</td>\n",
              "      <td>15.126994</td>\n",
              "      <td>40.005182</td>\n",
              "      <td>6.922689</td>\n",
              "      <td>765.518462</td>\n",
              "    </tr>\n",
              "  </tbody>\n",
              "</table>\n",
              "</div>"
            ],
            "text/plain": [
              "       Avg. Session Length  ...  Yearly Amount Spent\n",
              "count           500.000000  ...           500.000000\n",
              "mean             33.053194  ...           499.314038\n",
              "std               0.992563  ...            79.314782\n",
              "min              29.532429  ...           256.670582\n",
              "25%              32.341822  ...           445.038277\n",
              "50%              33.082008  ...           498.887875\n",
              "75%              33.711985  ...           549.313828\n",
              "max              36.139662  ...           765.518462\n",
              "\n",
              "[8 rows x 5 columns]"
            ]
          },
          "metadata": {
            "tags": []
          },
          "execution_count": 4
        }
      ]
    },
    {
      "cell_type": "code",
      "metadata": {
        "id": "hZnUe87Ccn4b",
        "colab_type": "code",
        "outputId": "92cc6fb3-af7c-4e38-f27c-1915fa43889e",
        "colab": {
          "base_uri": "https://localhost:8080/",
          "height": 196
        }
      },
      "source": [
        "df.corr()\n",
        "# seeing the correlation"
      ],
      "execution_count": 0,
      "outputs": [
        {
          "output_type": "execute_result",
          "data": {
            "text/html": [
              "<div>\n",
              "<style scoped>\n",
              "    .dataframe tbody tr th:only-of-type {\n",
              "        vertical-align: middle;\n",
              "    }\n",
              "\n",
              "    .dataframe tbody tr th {\n",
              "        vertical-align: top;\n",
              "    }\n",
              "\n",
              "    .dataframe thead th {\n",
              "        text-align: right;\n",
              "    }\n",
              "</style>\n",
              "<table border=\"1\" class=\"dataframe\">\n",
              "  <thead>\n",
              "    <tr style=\"text-align: right;\">\n",
              "      <th></th>\n",
              "      <th>Avg. Session Length</th>\n",
              "      <th>Time on App</th>\n",
              "      <th>Time on Website</th>\n",
              "      <th>Length of Membership</th>\n",
              "      <th>Yearly Amount Spent</th>\n",
              "    </tr>\n",
              "  </thead>\n",
              "  <tbody>\n",
              "    <tr>\n",
              "      <th>Avg. Session Length</th>\n",
              "      <td>1.000000</td>\n",
              "      <td>-0.027826</td>\n",
              "      <td>-0.034987</td>\n",
              "      <td>0.060247</td>\n",
              "      <td>0.355088</td>\n",
              "    </tr>\n",
              "    <tr>\n",
              "      <th>Time on App</th>\n",
              "      <td>-0.027826</td>\n",
              "      <td>1.000000</td>\n",
              "      <td>0.082388</td>\n",
              "      <td>0.029143</td>\n",
              "      <td>0.499328</td>\n",
              "    </tr>\n",
              "    <tr>\n",
              "      <th>Time on Website</th>\n",
              "      <td>-0.034987</td>\n",
              "      <td>0.082388</td>\n",
              "      <td>1.000000</td>\n",
              "      <td>-0.047582</td>\n",
              "      <td>-0.002641</td>\n",
              "    </tr>\n",
              "    <tr>\n",
              "      <th>Length of Membership</th>\n",
              "      <td>0.060247</td>\n",
              "      <td>0.029143</td>\n",
              "      <td>-0.047582</td>\n",
              "      <td>1.000000</td>\n",
              "      <td>0.809084</td>\n",
              "    </tr>\n",
              "    <tr>\n",
              "      <th>Yearly Amount Spent</th>\n",
              "      <td>0.355088</td>\n",
              "      <td>0.499328</td>\n",
              "      <td>-0.002641</td>\n",
              "      <td>0.809084</td>\n",
              "      <td>1.000000</td>\n",
              "    </tr>\n",
              "  </tbody>\n",
              "</table>\n",
              "</div>"
            ],
            "text/plain": [
              "                      Avg. Session Length  ...  Yearly Amount Spent\n",
              "Avg. Session Length              1.000000  ...             0.355088\n",
              "Time on App                     -0.027826  ...             0.499328\n",
              "Time on Website                 -0.034987  ...            -0.002641\n",
              "Length of Membership             0.060247  ...             0.809084\n",
              "Yearly Amount Spent              0.355088  ...             1.000000\n",
              "\n",
              "[5 rows x 5 columns]"
            ]
          },
          "metadata": {
            "tags": []
          },
          "execution_count": 8
        }
      ]
    },
    {
      "cell_type": "code",
      "metadata": {
        "id": "MTiM9oCHmrQx",
        "colab_type": "code",
        "outputId": "f57bf56e-1e07-41c7-b75c-92139a6a5371",
        "colab": {
          "base_uri": "https://localhost:8080/",
          "height": 398
        }
      },
      "source": [
        "%matplotlib inline\n",
        "df.hist(bins=50,grid=True)# Data is not skewwed on either side ,therefore preprocessing could be left."
      ],
      "execution_count": 0,
      "outputs": [
        {
          "output_type": "execute_result",
          "data": {
            "text/plain": [
              "array([[<matplotlib.axes._subplots.AxesSubplot object at 0x7fccbcd34f28>,\n",
              "        <matplotlib.axes._subplots.AxesSubplot object at 0x7fccbc5a1b70>],\n",
              "       [<matplotlib.axes._subplots.AxesSubplot object at 0x7fccbc5ec940>,\n",
              "        <matplotlib.axes._subplots.AxesSubplot object at 0x7fccbcc40e80>],\n",
              "       [<matplotlib.axes._subplots.AxesSubplot object at 0x7fccbcda1908>,\n",
              "        <matplotlib.axes._subplots.AxesSubplot object at 0x7fccbbdd7ba8>]],\n",
              "      dtype=object)"
            ]
          },
          "metadata": {
            "tags": []
          },
          "execution_count": 53
        },
        {
          "output_type": "display_data",
          "data": {
            "image/png": "[encoded data removed]",
            "text/plain": [
              "<Figure size 432x288 with 6 Axes>"
            ]
          },
          "metadata": {
            "tags": [],
            "needs_background": "light"
          }
        }
      ]
    },
    {
      "cell_type": "code",
      "metadata": {
        "id": "09f3UmWMm77T",
        "colab_type": "code",
        "outputId": "14033863-3494-42ac-9746-bd747c9c8cfe",
        "colab": {
          "base_uri": "https://localhost:8080/",
          "height": 329
        }
      },
      "source": [
        "# ploting the scatter ploting\n",
        "%matplotlib inline\n",
        "plt.figure(figsize=(6,6))\n",
        "scatter_matrix(df)\n",
        "plt.show()\n",
        "# it Could be seen that Length of Membership and Time on App shows clearly a postive corelation.Therefore we could use this our features."
      ],
      "execution_count": 0,
      "outputs": [
        {
          "output_type": "display_data",
          "data": {
            "text/plain": [
              "<Figure size 432x432 with 0 Axes>"
            ]
          },
          "metadata": {
            "tags": []
          }
        },
        {
          "output_type": "display_data",
          "data": {
            "image/png": "[encoded data removed]",
            "text/plain": [
              "<Figure size 432x288 with 25 Axes>"
            ]
          },
          "metadata": {
            "tags": [],
            "needs_background": "light"
          }
        }
      ]
    },
    {
      "cell_type": "markdown",
      "metadata": {
        "id": "oep1k6MPdH-p",
        "colab_type": "text"
      },
      "source": [
        "As we can see **Amount** is  majorly impacted  by **Length of Membership**,**Time on App** and **Avg.Session length** in decending ordering and has aa positive correlation.\n",
        "Whereas, **Time on Website** shows a negative correlation .\n"
      ]
    },
    {
      "cell_type": "markdown",
      "metadata": {
        "id": "MiuR60VYdHFE",
        "colab_type": "text"
      },
      "source": [
        ""
      ]
    },
    {
      "cell_type": "code",
      "metadata": {
        "id": "GtQyedlAp3-L",
        "colab_type": "code",
        "colab": {}
      },
      "source": [
        "df['Area'] = df['Address'].str.extract('([A-Z]{2})',expand=True)"
      ],
      "execution_count": 0,
      "outputs": []
    },
    {
      "cell_type": "code",
      "metadata": {
        "id": "uRySp44HvMyd",
        "colab_type": "code",
        "outputId": "526e2755-b4a7-4c2e-ec7c-465ffac8cec6",
        "colab": {
          "base_uri": "https://localhost:8080/",
          "height": 297
        }
      },
      "source": [
        "df.head()"
      ],
      "execution_count": 0,
      "outputs": [
        {
          "output_type": "execute_result",
          "data": {
            "text/html": [
              "<div>\n",
              "<style scoped>\n",
              "    .dataframe tbody tr th:only-of-type {\n",
              "        vertical-align: middle;\n",
              "    }\n",
              "\n",
              "    .dataframe tbody tr th {\n",
              "        vertical-align: top;\n",
              "    }\n",
              "\n",
              "    .dataframe thead th {\n",
              "        text-align: right;\n",
              "    }\n",
              "</style>\n",
              "<table border=\"1\" class=\"dataframe\">\n",
              "  <thead>\n",
              "    <tr style=\"text-align: right;\">\n",
              "      <th></th>\n",
              "      <th>Email</th>\n",
              "      <th>Address</th>\n",
              "      <th>Avatar</th>\n",
              "      <th>Avg. Session Length</th>\n",
              "      <th>Time on App</th>\n",
              "      <th>Time on Website</th>\n",
              "      <th>Length of Membership</th>\n",
              "      <th>Yearly Amount Spent</th>\n",
              "      <th>Area</th>\n",
              "    </tr>\n",
              "  </thead>\n",
              "  <tbody>\n",
              "    <tr>\n",
              "      <th>0</th>\n",
              "      <td>mstephenson@fernandez.com</td>\n",
              "      <td>835 Frank Tunnel\\nWrightmouth, MI 82180-9605</td>\n",
              "      <td>Violet</td>\n",
              "      <td>34.497268</td>\n",
              "      <td>12.655651</td>\n",
              "      <td>39.577668</td>\n",
              "      <td>4.082621</td>\n",
              "      <td>587.951054</td>\n",
              "      <td>MI</td>\n",
              "    </tr>\n",
              "    <tr>\n",
              "      <th>1</th>\n",
              "      <td>hduke@hotmail.com</td>\n",
              "      <td>4547 Archer Common\\nDiazchester, CA 06566-8576</td>\n",
              "      <td>DarkGreen</td>\n",
              "      <td>31.926272</td>\n",
              "      <td>11.109461</td>\n",
              "      <td>37.268959</td>\n",
              "      <td>2.664034</td>\n",
              "      <td>392.204933</td>\n",
              "      <td>CA</td>\n",
              "    </tr>\n",
              "    <tr>\n",
              "      <th>2</th>\n",
              "      <td>pallen@yahoo.com</td>\n",
              "      <td>24645 Valerie Unions Suite 582\\nCobbborough, D...</td>\n",
              "      <td>Bisque</td>\n",
              "      <td>33.000915</td>\n",
              "      <td>11.330278</td>\n",
              "      <td>37.110597</td>\n",
              "      <td>4.104543</td>\n",
              "      <td>487.547505</td>\n",
              "      <td>DC</td>\n",
              "    </tr>\n",
              "    <tr>\n",
              "      <th>3</th>\n",
              "      <td>riverarebecca@gmail.com</td>\n",
              "      <td>1414 David Throughway\\nPort Jason, OH 22070-1220</td>\n",
              "      <td>SaddleBrown</td>\n",
              "      <td>34.305557</td>\n",
              "      <td>13.717514</td>\n",
              "      <td>36.721283</td>\n",
              "      <td>3.120179</td>\n",
              "      <td>581.852344</td>\n",
              "      <td>OH</td>\n",
              "    </tr>\n",
              "    <tr>\n",
              "      <th>4</th>\n",
              "      <td>mstephens@davidson-herman.com</td>\n",
              "      <td>14023 Rodriguez Passage\\nPort Jacobville, PR 3...</td>\n",
              "      <td>MediumAquaMarine</td>\n",
              "      <td>33.330673</td>\n",
              "      <td>12.795189</td>\n",
              "      <td>37.536653</td>\n",
              "      <td>4.446308</td>\n",
              "      <td>599.406092</td>\n",
              "      <td>PR</td>\n",
              "    </tr>\n",
              "  </tbody>\n",
              "</table>\n",
              "</div>"
            ],
            "text/plain": [
              "                           Email  ... Area\n",
              "0      mstephenson@fernandez.com  ...   MI\n",
              "1              hduke@hotmail.com  ...   CA\n",
              "2               pallen@yahoo.com  ...   DC\n",
              "3        riverarebecca@gmail.com  ...   OH\n",
              "4  mstephens@davidson-herman.com  ...   PR\n",
              "\n",
              "[5 rows x 9 columns]"
            ]
          },
          "metadata": {
            "tags": []
          },
          "execution_count": 6
        }
      ]
    },
    {
      "cell_type": "markdown",
      "metadata": {
        "id": "xmnNCL0DuwW5",
        "colab_type": "text"
      },
      "source": [
        "# Visualizing the the Area imoact on time spent.\n",
        "\n",
        "**Generally trying to see whether Area has a effect on people spending time on App,web or duration of Membership**"
      ]
    },
    {
      "cell_type": "code",
      "metadata": {
        "id": "2r5a7Ru0vH9x",
        "colab_type": "code",
        "outputId": "a2b9945c-f25e-46e3-e316-6193d9aaf342",
        "colab": {
          "base_uri": "https://localhost:8080/",
          "height": 334
        }
      },
      "source": [
        "plt.figure(figsize=(20,5))\n",
        "plt.subplot(131)\n",
        "plt.bar(x=df['Area'],height=df['Avg. Session Length'])\n",
        "plt.ylabel('Avg. Session Length')\n",
        "plt.xlabel('Area')\n",
        "plt.subplot(132)\n",
        "plt.bar(x=df['Area'],height=df['Time on App'])\n",
        "plt.ylabel('Time on App')\n",
        "plt.xlabel('Area')\n",
        "plt.subplot(1,3,3)\n",
        "plt.bar(x=df['Area'],height=df['Time on Website'])\n",
        "plt.ylabel('Time on Website')\n",
        "plt.xlabel('Area')\n",
        "\n",
        "plt.show()\n"
      ],
      "execution_count": 0,
      "outputs": [
        {
          "output_type": "display_data",
          "data": {
            "image/png": "[encoded data removed]",
            "text/plain": [
              "<Figure size 1440x360 with 3 Axes>"
            ]
          },
          "metadata": {
            "tags": [],
            "needs_background": "light"
          }
        }
      ]
    },
    {
      "cell_type": "markdown",
      "metadata": {
        "id": "dNIXO_Jjew-u",
        "colab_type": "text"
      },
      "source": [
        "This could be seen that there no effect of Area on the **Avg session Length,Time on app and Time on Website**.\n",
        "\n",
        "\n"
      ]
    },
    {
      "cell_type": "code",
      "metadata": {
        "id": "j0ADHtRQ27Jc",
        "colab_type": "code",
        "colab": {}
      },
      "source": [
        "from sklearn.model_selection import train_test_split\n",
        "X_app= df[['Avg. Session Length','Time on App','Length of Membership',]]\n",
        "X_web= df[['Avg. Session Length','Time on Website','Length of Membership']]\n",
        "X = df[['Avg. Session Length','Time on App','Length of Membership','Time on Website']]\n",
        "y = df['Yearly Amount Spent']\n",
        "X_tr,X_te,y_tr,y_te = train_test_split(X_app,y,test_size=.20,random_state=2)"
      ],
      "execution_count": 0,
      "outputs": []
    },
    {
      "cell_type": "code",
      "metadata": {
        "id": "9SaoFtaVgwIJ",
        "colab_type": "code",
        "outputId": "633bab22-3c89-46e4-9250-99bae53f4fd9",
        "colab": {
          "base_uri": "https://localhost:8080/",
          "height": 50
        }
      },
      "source": [
        "from sklearn.linear_model import LinearRegression\n",
        "from sklearn.metrics import mean_squared_error\n",
        "lr = LinearRegression()\n",
        "lr.fit(X_tr,y_tr)\n",
        "score_lr= lr.score(X_tr,y_tr)\n",
        "yhat = lr.predict(X_te) \n",
        "print('Score = ',score_lr)\n",
        "mse = np.sqrt(mean_squared_error(yhat,y_te))\n",
        "mse"
      ],
      "execution_count": 0,
      "outputs": [
        {
          "output_type": "stream",
          "text": [
            "Score =  0.9841310184462995\n"
          ],
          "name": "stdout"
        },
        {
          "output_type": "execute_result",
          "data": {
            "text/plain": [
              "10.041160448792803"
            ]
          },
          "metadata": {
            "tags": []
          },
          "execution_count": 50
        }
      ]
    },
    {
      "cell_type": "code",
      "metadata": {
        "id": "Xk0zItf9qETa",
        "colab_type": "code",
        "outputId": "83d3978b-c044-4a91-f6e1-862e0dbf5e53",
        "colab": {
          "base_uri": "https://localhost:8080/",
          "height": 84
        }
      },
      "source": [
        "from sklearn.ensemble import RandomForestRegressor\n",
        "rnd = RandomForestRegressor(random_state=0)\n",
        "rnd.fit(X_tr,y_tr)\n",
        "print('score_rnd',rnd.score(X_tr,y_tr))\n",
        "yhat = rnd.predict(X_te)\n",
        "mse = np.sqrt(mean_squared_error(y_te,yhat))\n",
        "print('MSE_rnd ', mse)\n",
        "from sklearn.model_selection import cross_val_score\n",
        "score = cross_val_score(rnd,X_tr,y_tr,cv=5, scoring='neg_mean_squared_error')\n",
        "mse_crss = np.sqrt(-score)\n",
        "print(\"mse_crss \",mse_crss)\n",
        "print('Avg of mse_crss ',np.mean(mse_crss))\n",
        "# since the model is not over fitting because of the avg_cross_val_score is somewhat equals to score_rnd"
      ],
      "execution_count": 0,
      "outputs": [
        {
          "output_type": "stream",
          "text": [
            "score_rnd 0.991587258182995\n",
            "MSE_rnd  19.33159511690697\n",
            "mse_crss  [20.59928371 21.93589735 21.15921858 15.34734403 17.93644373]\n",
            "Avg of mse_crss  19.395637479624316\n"
          ],
          "name": "stdout"
        }
      ]
    },
    {
      "cell_type": "markdown",
      "metadata": {
        "id": "w58NtJnhtPhg",
        "colab_type": "text"
      },
      "source": [
        "\n",
        "\n",
        "---\n",
        "\n",
        "\n",
        "**Since our main motive is to determine which platform would be better for eCommerce company to pitch its product and the goals is clear we should go for App based platform .**\n",
        "\n",
        "\n",
        "\n",
        "\n",
        "---\n",
        "\n",
        "\n",
        "\n",
        "\n",
        "Our both the models performed well but **Random forest** shows good fitting with a score of **.9915** and giving a avg mse of **19.39** , so we keep Random forest for this problem set.**\n",
        "\n",
        "\n",
        "---\n",
        "Below there are some more insight we get from Linear Regression\n",
        "---\n",
        "\n"
      ]
    },
    {
      "cell_type": "markdown",
      "metadata": {
        "id": "c-QSZXCTk26s",
        "colab_type": "text"
      },
      "source": [
        "\n",
        "\n",
        "1.   When features:- **'Avg. Session Length','Time on App','Length of Membership'**\n",
        "\n",
        "\n",
        "*   Fitting score:  0.9841310184462995\n",
        "*   **MSE**          : 10.041160448792803 \n",
        "\n",
        "\n",
        "2.   When features:- **'Avg. Session Length','Time on web','Length of Membership'**\n",
        "\n",
        "\n",
        "*  **Fitting score**: 0.7364353689495247\n",
        "\n",
        "*   **MSE**          : 36.449258777203230\n",
        " \n",
        "\n",
        "Clearly App should be recommend usage of App based not website based."
      ]
    },
    {
      "cell_type": "code",
      "metadata": {
        "id": "KT7G9IIBl8fp",
        "colab_type": "code",
        "colab": {}
      },
      "source": [
        ""
      ],
      "execution_count": 0,
      "outputs": []
    }
  ]
}