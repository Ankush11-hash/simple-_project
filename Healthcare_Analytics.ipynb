{
  "nbformat": 4,
  "nbformat_minor": 0,
  "metadata": {
    "colab": {
      "name": "Healthcare Analytics",
      "provenance": [],
      "collapsed_sections": [],
      "authorship_tag": "ABX9TyMSFTEi0FmrsEWZz0a1UCgw",
      "include_colab_link": true
    },
    "kernelspec": {
      "name": "python3",
      "display_name": "Python 3"
    }
  },
  "cells": [
    {
      "cell_type": "markdown",
      "metadata": {
        "id": "view-in-github",
        "colab_type": "text"
      },
      "source": [
        "<a href=\"https://colab.research.google.com/github/Ankush11-hash/simple-_project/blob/master/Healthcare_Analytics.ipynb\" target=\"_parent\"><img src=\"https://colab.research.google.com/assets/colab-badge.svg\" alt=\"Open In Colab\"/></a>"
      ]
    },
    {
      "cell_type": "markdown",
      "metadata": {
        "id": "fEzdilQUFMZd",
        "colab_type": "text"
      },
      "source": [
        "**Predict the Patients having Diabetes and provide how important each feature is for the decision**"
      ]
    },
    {
      "cell_type": "code",
      "metadata": {
        "id": "embT1bHsEncf",
        "colab_type": "code",
        "colab": {}
      },
      "source": [
        "import numpy as np\n",
        "import pandas as pd\n",
        "import matplotlib.pyplot as plt\n",
        "from sklearn.linear_model import LogisticRegression,LogisticRegressionCV\n",
        "from sklearn.metrics import accuracy_score\n",
        "from sklearn.ensemble import RandomForestClassifier\n",
        "import tensorflow\n",
        "from tensorflow import keras\n",
        "from sklearn.preprocessing import StandardScaler\n",
        "from sklearn.model_selection import train_test_split"
      ],
      "execution_count": 0,
      "outputs": []
    },
    {
      "cell_type": "code",
      "metadata": {
        "id": "bU91rI3vFSII",
        "colab_type": "code",
        "outputId": "184e2220-4139-427b-da84-4778a663f592",
        "colab": {
          "base_uri": "https://localhost:8080/",
          "height": 196
        }
      },
      "source": [
        "df = pd.read_csv('https://raw.githubusercontent.com/payutech/diabetes/master/diabetes.csv',)\n",
        "df.head()"
      ],
      "execution_count": 48,
      "outputs": [
        {
          "output_type": "execute_result",
          "data": {
            "text/html": [
              "<div>\n",
              "<style scoped>\n",
              "    .dataframe tbody tr th:only-of-type {\n",
              "        vertical-align: middle;\n",
              "    }\n",
              "\n",
              "    .dataframe tbody tr th {\n",
              "        vertical-align: top;\n",
              "    }\n",
              "\n",
              "    .dataframe thead th {\n",
              "        text-align: right;\n",
              "    }\n",
              "</style>\n",
              "<table border=\"1\" class=\"dataframe\">\n",
              "  <thead>\n",
              "    <tr style=\"text-align: right;\">\n",
              "      <th></th>\n",
              "      <th>Pregnancies</th>\n",
              "      <th>Glucose</th>\n",
              "      <th>BloodPressure</th>\n",
              "      <th>SkinThickness</th>\n",
              "      <th>Insulin</th>\n",
              "      <th>BMI</th>\n",
              "      <th>DiabetesPedigreeFunction</th>\n",
              "      <th>Age</th>\n",
              "      <th>Outcome</th>\n",
              "    </tr>\n",
              "  </thead>\n",
              "  <tbody>\n",
              "    <tr>\n",
              "      <th>0</th>\n",
              "      <td>6</td>\n",
              "      <td>148</td>\n",
              "      <td>72</td>\n",
              "      <td>35</td>\n",
              "      <td>0</td>\n",
              "      <td>33.6</td>\n",
              "      <td>0.627</td>\n",
              "      <td>50</td>\n",
              "      <td>1</td>\n",
              "    </tr>\n",
              "    <tr>\n",
              "      <th>1</th>\n",
              "      <td>1</td>\n",
              "      <td>85</td>\n",
              "      <td>66</td>\n",
              "      <td>29</td>\n",
              "      <td>0</td>\n",
              "      <td>26.6</td>\n",
              "      <td>0.351</td>\n",
              "      <td>31</td>\n",
              "      <td>0</td>\n",
              "    </tr>\n",
              "    <tr>\n",
              "      <th>2</th>\n",
              "      <td>8</td>\n",
              "      <td>183</td>\n",
              "      <td>64</td>\n",
              "      <td>0</td>\n",
              "      <td>0</td>\n",
              "      <td>23.3</td>\n",
              "      <td>0.672</td>\n",
              "      <td>32</td>\n",
              "      <td>1</td>\n",
              "    </tr>\n",
              "    <tr>\n",
              "      <th>3</th>\n",
              "      <td>1</td>\n",
              "      <td>89</td>\n",
              "      <td>66</td>\n",
              "      <td>23</td>\n",
              "      <td>94</td>\n",
              "      <td>28.1</td>\n",
              "      <td>0.167</td>\n",
              "      <td>21</td>\n",
              "      <td>0</td>\n",
              "    </tr>\n",
              "    <tr>\n",
              "      <th>4</th>\n",
              "      <td>0</td>\n",
              "      <td>137</td>\n",
              "      <td>40</td>\n",
              "      <td>35</td>\n",
              "      <td>168</td>\n",
              "      <td>43.1</td>\n",
              "      <td>2.288</td>\n",
              "      <td>33</td>\n",
              "      <td>1</td>\n",
              "    </tr>\n",
              "  </tbody>\n",
              "</table>\n",
              "</div>"
            ],
            "text/plain": [
              "   Pregnancies  Glucose  BloodPressure  ...  DiabetesPedigreeFunction  Age  Outcome\n",
              "0            6      148             72  ...                     0.627   50        1\n",
              "1            1       85             66  ...                     0.351   31        0\n",
              "2            8      183             64  ...                     0.672   32        1\n",
              "3            1       89             66  ...                     0.167   21        0\n",
              "4            0      137             40  ...                     2.288   33        1\n",
              "\n",
              "[5 rows x 9 columns]"
            ]
          },
          "metadata": {
            "tags": []
          },
          "execution_count": 48
        }
      ]
    },
    {
      "cell_type": "code",
      "metadata": {
        "id": "m_kpQQZIFXXv",
        "colab_type": "code",
        "outputId": "298eab4a-84ff-4dc3-cff7-df13789b2398",
        "colab": {
          "base_uri": "https://localhost:8080/",
          "height": 286
        }
      },
      "source": [
        "df.describe()"
      ],
      "execution_count": 49,
      "outputs": [
        {
          "output_type": "execute_result",
          "data": {
            "text/html": [
              "<div>\n",
              "<style scoped>\n",
              "    .dataframe tbody tr th:only-of-type {\n",
              "        vertical-align: middle;\n",
              "    }\n",
              "\n",
              "    .dataframe tbody tr th {\n",
              "        vertical-align: top;\n",
              "    }\n",
              "\n",
              "    .dataframe thead th {\n",
              "        text-align: right;\n",
              "    }\n",
              "</style>\n",
              "<table border=\"1\" class=\"dataframe\">\n",
              "  <thead>\n",
              "    <tr style=\"text-align: right;\">\n",
              "      <th></th>\n",
              "      <th>Pregnancies</th>\n",
              "      <th>Glucose</th>\n",
              "      <th>BloodPressure</th>\n",
              "      <th>SkinThickness</th>\n",
              "      <th>Insulin</th>\n",
              "      <th>BMI</th>\n",
              "      <th>DiabetesPedigreeFunction</th>\n",
              "      <th>Age</th>\n",
              "      <th>Outcome</th>\n",
              "    </tr>\n",
              "  </thead>\n",
              "  <tbody>\n",
              "    <tr>\n",
              "      <th>count</th>\n",
              "      <td>768.000000</td>\n",
              "      <td>768.000000</td>\n",
              "      <td>768.000000</td>\n",
              "      <td>768.000000</td>\n",
              "      <td>768.000000</td>\n",
              "      <td>768.000000</td>\n",
              "      <td>768.000000</td>\n",
              "      <td>768.000000</td>\n",
              "      <td>768.000000</td>\n",
              "    </tr>\n",
              "    <tr>\n",
              "      <th>mean</th>\n",
              "      <td>3.845052</td>\n",
              "      <td>120.894531</td>\n",
              "      <td>69.105469</td>\n",
              "      <td>20.536458</td>\n",
              "      <td>79.799479</td>\n",
              "      <td>31.992578</td>\n",
              "      <td>0.471876</td>\n",
              "      <td>33.240885</td>\n",
              "      <td>0.348958</td>\n",
              "    </tr>\n",
              "    <tr>\n",
              "      <th>std</th>\n",
              "      <td>3.369578</td>\n",
              "      <td>31.972618</td>\n",
              "      <td>19.355807</td>\n",
              "      <td>15.952218</td>\n",
              "      <td>115.244002</td>\n",
              "      <td>7.884160</td>\n",
              "      <td>0.331329</td>\n",
              "      <td>11.760232</td>\n",
              "      <td>0.476951</td>\n",
              "    </tr>\n",
              "    <tr>\n",
              "      <th>min</th>\n",
              "      <td>0.000000</td>\n",
              "      <td>0.000000</td>\n",
              "      <td>0.000000</td>\n",
              "      <td>0.000000</td>\n",
              "      <td>0.000000</td>\n",
              "      <td>0.000000</td>\n",
              "      <td>0.078000</td>\n",
              "      <td>21.000000</td>\n",
              "      <td>0.000000</td>\n",
              "    </tr>\n",
              "    <tr>\n",
              "      <th>25%</th>\n",
              "      <td>1.000000</td>\n",
              "      <td>99.000000</td>\n",
              "      <td>62.000000</td>\n",
              "      <td>0.000000</td>\n",
              "      <td>0.000000</td>\n",
              "      <td>27.300000</td>\n",
              "      <td>0.243750</td>\n",
              "      <td>24.000000</td>\n",
              "      <td>0.000000</td>\n",
              "    </tr>\n",
              "    <tr>\n",
              "      <th>50%</th>\n",
              "      <td>3.000000</td>\n",
              "      <td>117.000000</td>\n",
              "      <td>72.000000</td>\n",
              "      <td>23.000000</td>\n",
              "      <td>30.500000</td>\n",
              "      <td>32.000000</td>\n",
              "      <td>0.372500</td>\n",
              "      <td>29.000000</td>\n",
              "      <td>0.000000</td>\n",
              "    </tr>\n",
              "    <tr>\n",
              "      <th>75%</th>\n",
              "      <td>6.000000</td>\n",
              "      <td>140.250000</td>\n",
              "      <td>80.000000</td>\n",
              "      <td>32.000000</td>\n",
              "      <td>127.250000</td>\n",
              "      <td>36.600000</td>\n",
              "      <td>0.626250</td>\n",
              "      <td>41.000000</td>\n",
              "      <td>1.000000</td>\n",
              "    </tr>\n",
              "    <tr>\n",
              "      <th>max</th>\n",
              "      <td>17.000000</td>\n",
              "      <td>199.000000</td>\n",
              "      <td>122.000000</td>\n",
              "      <td>99.000000</td>\n",
              "      <td>846.000000</td>\n",
              "      <td>67.100000</td>\n",
              "      <td>2.420000</td>\n",
              "      <td>81.000000</td>\n",
              "      <td>1.000000</td>\n",
              "    </tr>\n",
              "  </tbody>\n",
              "</table>\n",
              "</div>"
            ],
            "text/plain": [
              "       Pregnancies     Glucose  ...         Age     Outcome\n",
              "count   768.000000  768.000000  ...  768.000000  768.000000\n",
              "mean      3.845052  120.894531  ...   33.240885    0.348958\n",
              "std       3.369578   31.972618  ...   11.760232    0.476951\n",
              "min       0.000000    0.000000  ...   21.000000    0.000000\n",
              "25%       1.000000   99.000000  ...   24.000000    0.000000\n",
              "50%       3.000000  117.000000  ...   29.000000    0.000000\n",
              "75%       6.000000  140.250000  ...   41.000000    1.000000\n",
              "max      17.000000  199.000000  ...   81.000000    1.000000\n",
              "\n",
              "[8 rows x 9 columns]"
            ]
          },
          "metadata": {
            "tags": []
          },
          "execution_count": 49
        }
      ]
    },
    {
      "cell_type": "code",
      "metadata": {
        "id": "mQ3N1duVVcPx",
        "colab_type": "code",
        "outputId": "df5c0ea8-b5ae-45c4-959e-d8eeda39e60d",
        "colab": {
          "base_uri": "https://localhost:8080/",
          "height": 137
        }
      },
      "source": [
        "df.groupby('Outcome').count()"
      ],
      "execution_count": 50,
      "outputs": [
        {
          "output_type": "execute_result",
          "data": {
            "text/html": [
              "<div>\n",
              "<style scoped>\n",
              "    .dataframe tbody tr th:only-of-type {\n",
              "        vertical-align: middle;\n",
              "    }\n",
              "\n",
              "    .dataframe tbody tr th {\n",
              "        vertical-align: top;\n",
              "    }\n",
              "\n",
              "    .dataframe thead th {\n",
              "        text-align: right;\n",
              "    }\n",
              "</style>\n",
              "<table border=\"1\" class=\"dataframe\">\n",
              "  <thead>\n",
              "    <tr style=\"text-align: right;\">\n",
              "      <th></th>\n",
              "      <th>Pregnancies</th>\n",
              "      <th>Glucose</th>\n",
              "      <th>BloodPressure</th>\n",
              "      <th>SkinThickness</th>\n",
              "      <th>Insulin</th>\n",
              "      <th>BMI</th>\n",
              "      <th>DiabetesPedigreeFunction</th>\n",
              "      <th>Age</th>\n",
              "    </tr>\n",
              "    <tr>\n",
              "      <th>Outcome</th>\n",
              "      <th></th>\n",
              "      <th></th>\n",
              "      <th></th>\n",
              "      <th></th>\n",
              "      <th></th>\n",
              "      <th></th>\n",
              "      <th></th>\n",
              "      <th></th>\n",
              "    </tr>\n",
              "  </thead>\n",
              "  <tbody>\n",
              "    <tr>\n",
              "      <th>0</th>\n",
              "      <td>500</td>\n",
              "      <td>500</td>\n",
              "      <td>500</td>\n",
              "      <td>500</td>\n",
              "      <td>500</td>\n",
              "      <td>500</td>\n",
              "      <td>500</td>\n",
              "      <td>500</td>\n",
              "    </tr>\n",
              "    <tr>\n",
              "      <th>1</th>\n",
              "      <td>268</td>\n",
              "      <td>268</td>\n",
              "      <td>268</td>\n",
              "      <td>268</td>\n",
              "      <td>268</td>\n",
              "      <td>268</td>\n",
              "      <td>268</td>\n",
              "      <td>268</td>\n",
              "    </tr>\n",
              "  </tbody>\n",
              "</table>\n",
              "</div>"
            ],
            "text/plain": [
              "         Pregnancies  Glucose  ...  DiabetesPedigreeFunction  Age\n",
              "Outcome                        ...                               \n",
              "0                500      500  ...                       500  500\n",
              "1                268      268  ...                       268  268\n",
              "\n",
              "[2 rows x 8 columns]"
            ]
          },
          "metadata": {
            "tags": []
          },
          "execution_count": 50
        }
      ]
    },
    {
      "cell_type": "code",
      "metadata": {
        "id": "7uE_Fz_hFxa6",
        "colab_type": "code",
        "outputId": "9895b044-88d5-437c-a842-10160e0240b1",
        "colab": {
          "base_uri": "https://localhost:8080/",
          "height": 500
        }
      },
      "source": [
        "plt.figure(figsize=(15,8))\n",
        "df.boxplot()\n",
        "# there are too many outliers present in the data which needs to be handled"
      ],
      "execution_count": 51,
      "outputs": [
        {
          "output_type": "execute_result",
          "data": {
            "text/plain": [
              "<matplotlib.axes._subplots.AxesSubplot at 0x7f6641f765f8>"
            ]
          },
          "metadata": {
            "tags": []
          },
          "execution_count": 51
        },
        {
          "output_type": "display_data",
          "data": {
            "image/png": "[encoded data removed]",
            "text/plain": [
              "<Figure size 1080x576 with 1 Axes>"
            ]
          },
          "metadata": {
            "tags": [],
            "needs_background": "light"
          }
        }
      ]
    },
    {
      "cell_type": "code",
      "metadata": {
        "id": "CSPmKP1sfhnm",
        "colab_type": "code",
        "outputId": "2844c4ee-d6c0-4bf9-bc33-c89c63d2d07c",
        "colab": {
          "base_uri": "https://localhost:8080/",
          "height": 666
        }
      },
      "source": [
        "\n",
        "df.hist(bins=50,figsize=(10,8))"
      ],
      "execution_count": 52,
      "outputs": [
        {
          "output_type": "execute_result",
          "data": {
            "text/plain": [
              "array([[<matplotlib.axes._subplots.AxesSubplot object at 0x7f6641f766a0>,\n",
              "        <matplotlib.axes._subplots.AxesSubplot object at 0x7f6641dc5f28>,\n",
              "        <matplotlib.axes._subplots.AxesSubplot object at 0x7f6641d861d0>],\n",
              "       [<matplotlib.axes._subplots.AxesSubplot object at 0x7f6641dba358>,\n",
              "        <matplotlib.axes._subplots.AxesSubplot object at 0x7f6641d6c6d8>,\n",
              "        <matplotlib.axes._subplots.AxesSubplot object at 0x7f6641d1fa58>],\n",
              "       [<matplotlib.axes._subplots.AxesSubplot object at 0x7f6641cd2dd8>,\n",
              "        <matplotlib.axes._subplots.AxesSubplot object at 0x7f6641c8e160>,\n",
              "        <matplotlib.axes._subplots.AxesSubplot object at 0x7f6641c8e1d0>]],\n",
              "      dtype=object)"
            ]
          },
          "metadata": {
            "tags": []
          },
          "execution_count": 52
        },
        {
          "output_type": "display_data",
          "data": {
            "image/png": "[encoded data removed]",
            "text/plain": [
              "<Figure size 720x576 with 9 Axes>"
            ]
          },
          "metadata": {
            "tags": [],
            "needs_background": "light"
          }
        }
      ]
    },
    {
      "cell_type": "code",
      "metadata": {
        "id": "X4RwKo1mF574",
        "colab_type": "code",
        "outputId": "b81e0fe6-9bf1-4c47-c28e-3d053452868f",
        "colab": {
          "base_uri": "https://localhost:8080/",
          "height": 268
        }
      },
      "source": [
        "#df[df.Insulin == 0]\n",
        "df['Insulin'].unique()"
      ],
      "execution_count": 53,
      "outputs": [
        {
          "output_type": "execute_result",
          "data": {
            "text/plain": [
              "array([  0,  94, 168,  88, 543, 846, 175, 230,  83,  96, 235, 146, 115,\n",
              "       140, 110, 245,  54, 192, 207,  70, 240,  82,  36,  23, 300, 342,\n",
              "       304, 142, 128,  38, 100,  90, 270,  71, 125, 176,  48,  64, 228,\n",
              "        76, 220,  40, 152,  18, 135, 495,  37,  51,  99, 145, 225,  49,\n",
              "        50,  92, 325,  63, 284, 119, 204, 155, 485,  53, 114, 105, 285,\n",
              "       156,  78, 130,  55,  58, 160, 210, 318,  44, 190, 280,  87, 271,\n",
              "       129, 120, 478,  56,  32, 744, 370,  45, 194, 680, 402, 258, 375,\n",
              "       150,  67,  57, 116, 278, 122, 545,  75,  74, 182, 360, 215, 184,\n",
              "        42, 132, 148, 180, 205,  85, 231,  29,  68,  52, 255, 171,  73,\n",
              "       108,  43, 167, 249, 293,  66, 465,  89, 158,  84,  72,  59,  81,\n",
              "       196, 415, 275, 165, 579, 310,  61, 474, 170, 277,  60,  14,  95,\n",
              "       237, 191, 328, 250, 480, 265, 193,  79,  86, 326, 188, 106,  65,\n",
              "       166, 274,  77, 126, 330, 600, 185,  25,  41, 272, 321, 144,  15,\n",
              "       183,  91,  46, 440, 159, 540, 200, 335, 387,  22, 291, 392, 178,\n",
              "       127, 510,  16, 112])"
            ]
          },
          "metadata": {
            "tags": []
          },
          "execution_count": 53
        }
      ]
    },
    {
      "cell_type": "code",
      "metadata": {
        "id": "cr8bD4EnIWbx",
        "colab_type": "code",
        "outputId": "a6ff619a-e2a1-45ce-dbe7-260576009c1f",
        "colab": {
          "base_uri": "https://localhost:8080/",
          "height": 764
        }
      },
      "source": [
        "df_in=df[df.Insulin == 0]\n",
        "plt.figure(figsize=(15,8))\n",
        "plt.title('Person with zero insulin levels')\n",
        "plt.subplot(211)\n",
        "df_in.boxplot()\n",
        "df_not_in=df[df.Insulin != 0]\n",
        "plt.title('Person with insulin levels')\n",
        "plt.subplot(212)\n",
        "plt.figure(figsize=(15,4))\n",
        "df_not_in.boxplot()"
      ],
      "execution_count": 54,
      "outputs": [
        {
          "output_type": "execute_result",
          "data": {
            "text/plain": [
              "<matplotlib.axes._subplots.AxesSubplot at 0x7f66416b8860>"
            ]
          },
          "metadata": {
            "tags": []
          },
          "execution_count": 54
        },
        {
          "output_type": "display_data",
          "data": {
            "image/png": "[encoded data removed]",
            "text/plain": [
              "<Figure size 1080x576 with 2 Axes>"
            ]
          },
          "metadata": {
            "tags": [],
            "needs_background": "light"
          }
        },
        {
          "output_type": "display_data",
          "data": {
            "image/png": "[encoded data removed]",
            "text/plain": [
              "<Figure size 1080x288 with 1 Axes>"
            ]
          },
          "metadata": {
            "tags": [],
            "needs_background": "light"
          }
        }
      ]
    },
    {
      "cell_type": "markdown",
      "metadata": {
        "id": "xa52C5jQNiir",
        "colab_type": "text"
      },
      "source": [
        "**What happens to a diabetic without insulin?**\n",
        "\n",
        "With too little insulin, the body can no longer move glucose from the blood into the cells, causing high blood glucose levels. If the glucose level is high enough, excess glucose spills into the urine.This is because the body attempts to make new energy from fat and causes acids to be produced as waste products.\n",
        "\n"
      ]
    },
    {
      "cell_type": "code",
      "metadata": {
        "id": "KxQKt--JI8r6",
        "colab_type": "code",
        "outputId": "4e7a9e35-546d-4435-81d8-82c0322099cd",
        "colab": {
          "base_uri": "https://localhost:8080/",
          "height": 316
        }
      },
      "source": [
        "df.corr()"
      ],
      "execution_count": 55,
      "outputs": [
        {
          "output_type": "execute_result",
          "data": {
            "text/html": [
              "<div>\n",
              "<style scoped>\n",
              "    .dataframe tbody tr th:only-of-type {\n",
              "        vertical-align: middle;\n",
              "    }\n",
              "\n",
              "    .dataframe tbody tr th {\n",
              "        vertical-align: top;\n",
              "    }\n",
              "\n",
              "    .dataframe thead th {\n",
              "        text-align: right;\n",
              "    }\n",
              "</style>\n",
              "<table border=\"1\" class=\"dataframe\">\n",
              "  <thead>\n",
              "    <tr style=\"text-align: right;\">\n",
              "      <th></th>\n",
              "      <th>Pregnancies</th>\n",
              "      <th>Glucose</th>\n",
              "      <th>BloodPressure</th>\n",
              "      <th>SkinThickness</th>\n",
              "      <th>Insulin</th>\n",
              "      <th>BMI</th>\n",
              "      <th>DiabetesPedigreeFunction</th>\n",
              "      <th>Age</th>\n",
              "      <th>Outcome</th>\n",
              "    </tr>\n",
              "  </thead>\n",
              "  <tbody>\n",
              "    <tr>\n",
              "      <th>Pregnancies</th>\n",
              "      <td>1.000000</td>\n",
              "      <td>0.129459</td>\n",
              "      <td>0.141282</td>\n",
              "      <td>-0.081672</td>\n",
              "      <td>-0.073535</td>\n",
              "      <td>0.017683</td>\n",
              "      <td>-0.033523</td>\n",
              "      <td>0.544341</td>\n",
              "      <td>0.221898</td>\n",
              "    </tr>\n",
              "    <tr>\n",
              "      <th>Glucose</th>\n",
              "      <td>0.129459</td>\n",
              "      <td>1.000000</td>\n",
              "      <td>0.152590</td>\n",
              "      <td>0.057328</td>\n",
              "      <td>0.331357</td>\n",
              "      <td>0.221071</td>\n",
              "      <td>0.137337</td>\n",
              "      <td>0.263514</td>\n",
              "      <td>0.466581</td>\n",
              "    </tr>\n",
              "    <tr>\n",
              "      <th>BloodPressure</th>\n",
              "      <td>0.141282</td>\n",
              "      <td>0.152590</td>\n",
              "      <td>1.000000</td>\n",
              "      <td>0.207371</td>\n",
              "      <td>0.088933</td>\n",
              "      <td>0.281805</td>\n",
              "      <td>0.041265</td>\n",
              "      <td>0.239528</td>\n",
              "      <td>0.065068</td>\n",
              "    </tr>\n",
              "    <tr>\n",
              "      <th>SkinThickness</th>\n",
              "      <td>-0.081672</td>\n",
              "      <td>0.057328</td>\n",
              "      <td>0.207371</td>\n",
              "      <td>1.000000</td>\n",
              "      <td>0.436783</td>\n",
              "      <td>0.392573</td>\n",
              "      <td>0.183928</td>\n",
              "      <td>-0.113970</td>\n",
              "      <td>0.074752</td>\n",
              "    </tr>\n",
              "    <tr>\n",
              "      <th>Insulin</th>\n",
              "      <td>-0.073535</td>\n",
              "      <td>0.331357</td>\n",
              "      <td>0.088933</td>\n",
              "      <td>0.436783</td>\n",
              "      <td>1.000000</td>\n",
              "      <td>0.197859</td>\n",
              "      <td>0.185071</td>\n",
              "      <td>-0.042163</td>\n",
              "      <td>0.130548</td>\n",
              "    </tr>\n",
              "    <tr>\n",
              "      <th>BMI</th>\n",
              "      <td>0.017683</td>\n",
              "      <td>0.221071</td>\n",
              "      <td>0.281805</td>\n",
              "      <td>0.392573</td>\n",
              "      <td>0.197859</td>\n",
              "      <td>1.000000</td>\n",
              "      <td>0.140647</td>\n",
              "      <td>0.036242</td>\n",
              "      <td>0.292695</td>\n",
              "    </tr>\n",
              "    <tr>\n",
              "      <th>DiabetesPedigreeFunction</th>\n",
              "      <td>-0.033523</td>\n",
              "      <td>0.137337</td>\n",
              "      <td>0.041265</td>\n",
              "      <td>0.183928</td>\n",
              "      <td>0.185071</td>\n",
              "      <td>0.140647</td>\n",
              "      <td>1.000000</td>\n",
              "      <td>0.033561</td>\n",
              "      <td>0.173844</td>\n",
              "    </tr>\n",
              "    <tr>\n",
              "      <th>Age</th>\n",
              "      <td>0.544341</td>\n",
              "      <td>0.263514</td>\n",
              "      <td>0.239528</td>\n",
              "      <td>-0.113970</td>\n",
              "      <td>-0.042163</td>\n",
              "      <td>0.036242</td>\n",
              "      <td>0.033561</td>\n",
              "      <td>1.000000</td>\n",
              "      <td>0.238356</td>\n",
              "    </tr>\n",
              "    <tr>\n",
              "      <th>Outcome</th>\n",
              "      <td>0.221898</td>\n",
              "      <td>0.466581</td>\n",
              "      <td>0.065068</td>\n",
              "      <td>0.074752</td>\n",
              "      <td>0.130548</td>\n",
              "      <td>0.292695</td>\n",
              "      <td>0.173844</td>\n",
              "      <td>0.238356</td>\n",
              "      <td>1.000000</td>\n",
              "    </tr>\n",
              "  </tbody>\n",
              "</table>\n",
              "</div>"
            ],
            "text/plain": [
              "                          Pregnancies   Glucose  ...       Age   Outcome\n",
              "Pregnancies                  1.000000  0.129459  ...  0.544341  0.221898\n",
              "Glucose                      0.129459  1.000000  ...  0.263514  0.466581\n",
              "BloodPressure                0.141282  0.152590  ...  0.239528  0.065068\n",
              "SkinThickness               -0.081672  0.057328  ... -0.113970  0.074752\n",
              "Insulin                     -0.073535  0.331357  ... -0.042163  0.130548\n",
              "BMI                          0.017683  0.221071  ...  0.036242  0.292695\n",
              "DiabetesPedigreeFunction    -0.033523  0.137337  ...  0.033561  0.173844\n",
              "Age                          0.544341  0.263514  ...  1.000000  0.238356\n",
              "Outcome                      0.221898  0.466581  ...  0.238356  1.000000\n",
              "\n",
              "[9 rows x 9 columns]"
            ]
          },
          "metadata": {
            "tags": []
          },
          "execution_count": 55
        }
      ]
    },
    {
      "cell_type": "markdown",
      "metadata": {
        "id": "KsfrnFamO_VG",
        "colab_type": "text"
      },
      "source": [
        "**Insights from above analysis to choose relevent features**\n",
        "\n",
        "Insulin is not directly correalted with outcome as it can be seen from df.corr(),but insulin is having some  correlation  to Glucose levels and Skin thickness and Glucose levels are here related to Outcome column, There fore Insulin as feature for detection of the outcome. \n",
        "\n"
      ]
    },
    {
      "cell_type": "markdown",
      "metadata": {
        "id": "sQSFlHEiasdH",
        "colab_type": "text"
      },
      "source": [
        "### **Dealing with outliers ,unwanted Zero values and missing values**"
      ]
    },
    {
      "cell_type": "code",
      "metadata": {
        "id": "Za3O2aOnLOyb",
        "colab_type": "code",
        "outputId": "f3e956ce-2ac0-4285-87c4-1bcb27a95cd8",
        "colab": {
          "base_uri": "https://localhost:8080/",
          "height": 33
        }
      },
      "source": [
        "# There seems to be having many outliers in Insulin section.\n",
        "#df['BloodPressure'].min() <========== This results in 0\n",
        "df['BloodPressure'].loc[df.BloodPressure == 0].count()"
      ],
      "execution_count": 56,
      "outputs": [
        {
          "output_type": "execute_result",
          "data": {
            "text/plain": [
              "35"
            ]
          },
          "metadata": {
            "tags": []
          },
          "execution_count": 56
        }
      ]
    },
    {
      "cell_type": "markdown",
      "metadata": {
        "id": "zuRy4A0nU8XY",
        "colab_type": "text"
      },
      "source": [
        "Zero BloodPressure is not a case when perosn is alive.We could either drop the zero values or replace with the mean,median or mode.\n",
        "\n",
        "500 people donot have Diabetes\n",
        "268 people have Diabetes\n",
        "\n",
        "**So, we will replace the missing data of bloodpressure of Diabetes patients with the  mean of bloodpressure of people having Diabetes and vica versa **"
      ]
    },
    {
      "cell_type": "code",
      "metadata": {
        "id": "jpjiZUbsLe3u",
        "colab_type": "code",
        "outputId": "3ef3dc5e-5f45-4216-acbe-bf416b13fc59",
        "colab": {
          "base_uri": "https://localhost:8080/",
          "height": 50
        }
      },
      "source": [
        "df_temp1  =df.loc[df.Outcome== 1] # having Diabetes\n",
        "mean_hav = df_temp1['BloodPressure'].mean()\n",
        "#******\n",
        "df_temp2  =df.loc[df.Outcome== 0] # not having Diabetes\n",
        "mean_not_hav = df_temp2['BloodPressure'].mean()\n",
        "\n",
        "print('Blood pressure mean of having Diabetes = {}\\nBlood pressure mean of having Diabetes = {}'.format(mean_hav,mean_not_hav))\n",
        "\n",
        "df['BloodPressure'].replace(0,mean_not_hav,inplace=True)\n"
      ],
      "execution_count": 57,
      "outputs": [
        {
          "output_type": "stream",
          "text": [
            "Blood pressure mean of having Diabetes = 70.82462686567165\n",
            "Blood pressure mean of having Diabetes = 68.184\n"
          ],
          "name": "stdout"
        }
      ]
    },
    {
      "cell_type": "markdown",
      "metadata": {
        "id": "Z7nadaDTYHO7",
        "colab_type": "text"
      },
      "source": [
        "Though result will not make much diference , but this maths could be applied in other projects and results could be tested upon the same !\n",
        ".\n",
        ".\n",
        "There fore here we will replace with either of the values calculated"
      ]
    },
    {
      "cell_type": "code",
      "metadata": {
        "id": "w238hecNYDfZ",
        "colab_type": "code",
        "outputId": "04911221-c638-403d-9551-357a43053989",
        "colab": {
          "base_uri": "https://localhost:8080/",
          "height": 33
        }
      },
      "source": [
        "df['BloodPressure'].loc[df.BloodPressure == 0].count()# successfully executed"
      ],
      "execution_count": 58,
      "outputs": [
        {
          "output_type": "execute_result",
          "data": {
            "text/plain": [
              "0"
            ]
          },
          "metadata": {
            "tags": []
          },
          "execution_count": 58
        }
      ]
    },
    {
      "cell_type": "code",
      "metadata": {
        "id": "okzoetSSZICq",
        "colab_type": "code",
        "outputId": "a5702ac2-388c-4f99-c34b-d5e8377ff784",
        "colab": {
          "base_uri": "https://localhost:8080/",
          "height": 50
        }
      },
      "source": [
        "x = df['BMI'].loc[df.BMI == 0].count()\n",
        "print('People with value 0 BMI',x) \n",
        "mode_bmi = df['BMI'].mode()# lets take it as mode\n",
        "df['BMI'].replace([0],mode_bmi,inplace=True)\n",
        "df['BMI'].loc[df.BMI == 0].count()\n",
        "# Done"
      ],
      "execution_count": 59,
      "outputs": [
        {
          "output_type": "stream",
          "text": [
            "People with value 0 BMI 11\n"
          ],
          "name": "stdout"
        },
        {
          "output_type": "execute_result",
          "data": {
            "text/plain": [
              "0"
            ]
          },
          "metadata": {
            "tags": []
          },
          "execution_count": 59
        }
      ]
    },
    {
      "cell_type": "code",
      "metadata": {
        "id": "4uZIqkXmZYvn",
        "colab_type": "code",
        "outputId": "d40e4b8d-f86c-49c3-8791-0e8c9e3cbd5f",
        "colab": {
          "base_uri": "https://localhost:8080/",
          "height": 33
        }
      },
      "source": [
        "df['SkinThickness'].loc[df.SkinThickness == 0].count()\n"
      ],
      "execution_count": 60,
      "outputs": [
        {
          "output_type": "execute_result",
          "data": {
            "text/plain": [
              "227"
            ]
          },
          "metadata": {
            "tags": []
          },
          "execution_count": 60
        }
      ]
    },
    {
      "cell_type": "markdown",
      "metadata": {
        "id": "GkQCiWccdhZ_",
        "colab_type": "text"
      },
      "source": [
        "Skin Thickness can never be zero , in case replacing the data with mean could effect the whole data frame.\n",
        "This has very low correlation with Outcome so we can drop this feature."
      ]
    },
    {
      "cell_type": "code",
      "metadata": {
        "id": "rVx94qv3bQWB",
        "colab_type": "code",
        "outputId": "86ab10f2-d89c-4d48-a179-f355b6b29807",
        "colab": {
          "base_uri": "https://localhost:8080/",
          "height": 67
        }
      },
      "source": [
        "x =df['Insulin'].loc[df.Insulin == 0].count()\n",
        "print('0 values in Insulin = ',x)\n",
        "#Though it shows many zero values still this have vital information.\n",
        "mean_in_dia = df.loc[df.Outcome==1]['Insulin'].mean()\n",
        "mean_in_dia\n",
        "mean_in_ndia = df.loc[df.Outcome==0]['Insulin'].mean()\n",
        "print('People with diabetes have insulin level = {}\\nPeople with  no diabetes have insulin level = {} '.format(mean_in_dia,mean_in_ndia))\n"
      ],
      "execution_count": 61,
      "outputs": [
        {
          "output_type": "stream",
          "text": [
            "0 values in Insulin =  374\n",
            "People with diabetes have insulin level = 100.33582089552239\n",
            "People with  no diabetes have insulin level = 68.792 \n"
          ],
          "name": "stdout"
        }
      ]
    },
    {
      "cell_type": "markdown",
      "metadata": {
        "id": "wL23Dm9Aeu79",
        "colab_type": "text"
      },
      "source": [
        "The above information we will use if we dont get sufficient accuracy and check if this replace could help in better results."
      ]
    },
    {
      "cell_type": "markdown",
      "metadata": {
        "id": "3QM64vF5faMy",
        "colab_type": "text"
      },
      "source": [
        "## **Features**"
      ]
    },
    {
      "cell_type": "code",
      "metadata": {
        "id": "_jgTbjZGc6G7",
        "colab_type": "code",
        "outputId": "47bada95-967f-4ff5-8d7f-a2423de812c0",
        "colab": {
          "base_uri": "https://localhost:8080/",
          "height": 84
        }
      },
      "source": [
        "X = df.drop(columns=['Outcome'])\n",
        "y = df['Outcome'] \n",
        "scaler = StandardScaler()\n",
        "X = scaler.fit_transform(X)\n",
        "X_train,X_test,y_train,y_test  = train_test_split(X,y,random_state=0,test_size=.2)\n",
        "print('X_train.shape {}\\nX_test.shape {}\\ny_train.shape {}\\ny_test.shape{}'.format(X_train.shape,X_test.shape,y_train.shape,y_test.shape))"
      ],
      "execution_count": 62,
      "outputs": [
        {
          "output_type": "stream",
          "text": [
            "X_train.shape (614, 8)\n",
            "X_test.shape (154, 8)\n",
            "y_train.shape (614,)\n",
            "y_test.shape(154,)\n"
          ],
          "name": "stdout"
        }
      ]
    },
    {
      "cell_type": "markdown",
      "metadata": {
        "id": "ikEU7xXkrxF5",
        "colab_type": "text"
      },
      "source": [
        "# Model"
      ]
    },
    {
      "cell_type": "code",
      "metadata": {
        "id": "cyWMjmzAc6eh",
        "colab_type": "code",
        "colab": {}
      },
      "source": [
        "\n",
        "compare = {'Models': ['Logistic_Reg','Logistic_RegCV','Random_Forest','Neural Net'],'training_Score':[],'Accuracy':[]}\n",
        "# Logistic _regression\n",
        "log_reg = LogisticRegression()\n",
        "log_reg.fit(X_train,y_train)\n",
        "yhat_log = log_reg.predict(X_test)\n",
        "acc = accuracy_score(y_test,yhat_log)\n",
        "score = log_reg.score(X_train,y_train)\n",
        "compare['training_Score'].append(score)\n",
        "compare['Accuracy'].append(acc)"
      ],
      "execution_count": 0,
      "outputs": []
    },
    {
      "cell_type": "code",
      "metadata": {
        "id": "2cNbDW4Ag3b_",
        "colab_type": "code",
        "colab": {
          "base_uri": "https://localhost:8080/",
          "height": 33
        },
        "outputId": "f4e7dea7-a2d8-4599-ef82-c66702b53390"
      },
      "source": [
        "# Logistic_regressionCV\n",
        "log_regCV = LogisticRegressionCV(cv=10)\n",
        "log_regCV.fit(X_train,y_train)\n",
        "compare['training_Score'].append(log_regCV.score(X_train,y_train))\n",
        "yhat = log_regCV.predict(X_test)\n",
        "compare['Accuracy'].append(accuracy_score(yhat,y_test))\n",
        "accuracy_score(yhat,y_test)"
      ],
      "execution_count": 93,
      "outputs": [
        {
          "output_type": "execute_result",
          "data": {
            "text/plain": [
              "0.8181818181818182"
            ]
          },
          "metadata": {
            "tags": []
          },
          "execution_count": 93
        }
      ]
    },
    {
      "cell_type": "code",
      "metadata": {
        "id": "wDBGu7efuKAK",
        "colab_type": "code",
        "colab": {
          "base_uri": "https://localhost:8080/",
          "height": 67
        },
        "outputId": "ec43cdb3-20d9-4f44-a15e-d920772a25d0"
      },
      "source": [
        "# Random forest Classifier\n",
        "rnd = RandomForestClassifier()\n",
        "rnd.fit(X_train,y_train)\n",
        "compare['training_Score'].append(rnd.score(X_train,y_train))\n",
        "yhat = rnd.predict(X_test)\n",
        "compare['Accuracy'].append(accuracy_score(yhat,y_test))\n",
        "\n",
        "compare"
      ],
      "execution_count": 94,
      "outputs": [
        {
          "output_type": "execute_result",
          "data": {
            "text/plain": [
              "{'Accuracy': [0.8181818181818182, 0.8181818181818182, 0.7922077922077922],\n",
              " 'Models': ['Logitic_Reg', 'Logistic_RegCV', 'Random_Forest', 'Neural Net'],\n",
              " 'training_Score': [0.7671009771986971, 0.760586319218241, 1.0]}"
            ]
          },
          "metadata": {
            "tags": []
          },
          "execution_count": 94
        }
      ]
    },
    {
      "cell_type": "code",
      "metadata": {
        "id": "qjXOJGsOukLE",
        "colab_type": "code",
        "colab": {}
      },
      "source": [
        "# Neural Networks\n",
        "model = keras.models.Sequential()\n",
        "model.add(keras.layers.Dense(16,input_dim=X_train.shape[1]))\n",
        "model.add(keras.layers.Dense(8,activation='relu'))\n",
        "model.add(keras.layers.Dense(4,activation='relu'))\n",
        "model.add(keras.layers.Dense(1,activation='sigmoid'))\n",
        "\n",
        "model.compile(loss='binary_crossentropy',optimizer='adam',metrics=['accuracy'])\n",
        "model.fit(X_train,y_train,epochs=150,batch_size=10)\n",
        "compare['training_Score'].append(model.history.history['accuracy'][-1])\n",
        "compare['Accuracy'].append(model.evaluate(X_test,y_test)[1])"
      ],
      "execution_count": 0,
      "outputs": []
    },
    {
      "cell_type": "code",
      "metadata": {
        "id": "ThIxB2YF9Sod",
        "colab_type": "code",
        "colab": {
          "base_uri": "https://localhost:8080/",
          "height": 166
        },
        "outputId": "5175a1c8-366a-4357-96dc-b4cf5f96a4e4"
      },
      "source": [
        "df_com= pd.DataFrame(compare)\n",
        "df_com"
      ],
      "execution_count": 103,
      "outputs": [
        {
          "output_type": "execute_result",
          "data": {
            "text/html": [
              "<div>\n",
              "<style scoped>\n",
              "    .dataframe tbody tr th:only-of-type {\n",
              "        vertical-align: middle;\n",
              "    }\n",
              "\n",
              "    .dataframe tbody tr th {\n",
              "        vertical-align: top;\n",
              "    }\n",
              "\n",
              "    .dataframe thead th {\n",
              "        text-align: right;\n",
              "    }\n",
              "</style>\n",
              "<table border=\"1\" class=\"dataframe\">\n",
              "  <thead>\n",
              "    <tr style=\"text-align: right;\">\n",
              "      <th></th>\n",
              "      <th>Models</th>\n",
              "      <th>training_Score</th>\n",
              "      <th>Accuracy</th>\n",
              "    </tr>\n",
              "  </thead>\n",
              "  <tbody>\n",
              "    <tr>\n",
              "      <th>0</th>\n",
              "      <td>Logitic_Reg</td>\n",
              "      <td>0.767101</td>\n",
              "      <td>0.818182</td>\n",
              "    </tr>\n",
              "    <tr>\n",
              "      <th>1</th>\n",
              "      <td>Logistic_RegCV</td>\n",
              "      <td>0.760586</td>\n",
              "      <td>0.818182</td>\n",
              "    </tr>\n",
              "    <tr>\n",
              "      <th>2</th>\n",
              "      <td>Random_Forest</td>\n",
              "      <td>1.000000</td>\n",
              "      <td>0.792208</td>\n",
              "    </tr>\n",
              "    <tr>\n",
              "      <th>3</th>\n",
              "      <td>Neural Net</td>\n",
              "      <td>0.835505</td>\n",
              "      <td>0.746753</td>\n",
              "    </tr>\n",
              "  </tbody>\n",
              "</table>\n",
              "</div>"
            ],
            "text/plain": [
              "           Models  training_Score  Accuracy\n",
              "0     Logitic_Reg        0.767101  0.818182\n",
              "1  Logistic_RegCV        0.760586  0.818182\n",
              "2   Random_Forest        1.000000  0.792208\n",
              "3      Neural Net        0.835505  0.746753"
            ]
          },
          "metadata": {
            "tags": []
          },
          "execution_count": 103
        }
      ]
    },
    {
      "cell_type": "code",
      "metadata": {
        "id": "qZenRDS7_Nh-",
        "colab_type": "code",
        "colab": {
          "base_uri": "https://localhost:8080/",
          "height": 406
        },
        "outputId": "ee2c7ee1-97ef-42b1-d5dd-5364fb66ef65"
      },
      "source": [
        "plt.figure(figsize=(10,6))\n",
        "plt.bar(df_com['Models'],df_com['training_Score'],alpha=.4,label='Training_accuracy')\n",
        "plt.legend()\n",
        "plt.ylabel('Accuracy')\n",
        "plt.xlabel('Models')\n",
        "plt.scatter(df_com['Models'],df_com['Accuracy'],color='r',marker='*',s=50,label='Predicted Accuracy')\n",
        "plt.legend()"
      ],
      "execution_count": 128,
      "outputs": [
        {
          "output_type": "execute_result",
          "data": {
            "text/plain": [
              "<matplotlib.legend.Legend at 0x7f66394207b8>"
            ]
          },
          "metadata": {
            "tags": []
          },
          "execution_count": 128
        },
        {
          "output_type": "display_data",
          "data": {
            "image/png": "[encoded data removed]",
            "text/plain": [
              "<Figure size 720x432 with 1 Axes>"
            ]
          },
          "metadata": {
            "tags": [],
            "needs_background": "light"
          }
        }
      ]
    },
    {
      "cell_type": "markdown",
      "metadata": {
        "id": "85qMyPemnuCZ",
        "colab_type": "text"
      },
      "source": [
        "# **Conclusion**\n",
        "\n",
        "**1.**Its is clearly seen that random forest is overfitting the data, but this could be improved by tunning some parameters of it. Since the problem set is too small for such modifications, we will keep the above as same.\n",
        "\n",
        "\n",
        "\n",
        "**2.**Small data set is when fed to Neural network it performed well but performance of Logistic regression could be seen doing better than all.\n",
        "\n",
        "**3.**Therefore we will consider Logistic regression suitable for the problem set.\n",
        "There are more classification algorithms such KNN,Support vectors machine etc which could also be used.\n",
        "\n",
        "\n"
      ]
    },
    {
      "cell_type": "code",
      "metadata": {
        "id": "EyuTHjdUk3d0",
        "colab_type": "code",
        "colab": {}
      },
      "source": [
        ""
      ],
      "execution_count": 0,
      "outputs": []
    }
  ]
}