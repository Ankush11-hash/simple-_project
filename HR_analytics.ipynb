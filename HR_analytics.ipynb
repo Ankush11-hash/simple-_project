{
  "nbformat": 4,
  "nbformat_minor": 0,
  "metadata": {
    "colab": {
      "name": "HR analytics",
      "provenance": [],
      "collapsed_sections": [],
      "authorship_tag": "ABX9TyP+ulwIhYtp8k4pnl/i6QTG",
      "include_colab_link": true
    },
    "kernelspec": {
      "name": "python3",
      "display_name": "Python 3"
    }
  },
  "cells": [
    {
      "cell_type": "markdown",
      "metadata": {
        "id": "view-in-github",
        "colab_type": "text"
      },
      "source": [
        "<a href=\"https://colab.research.google.com/github/Ankush11-hash/simple-_project/blob/master/HR_analytics.ipynb\" target=\"_parent\"><img src=\"https://colab.research.google.com/assets/colab-badge.svg\" alt=\"Open In Colab\"/></a>"
      ]
    },
    {
      "cell_type": "code",
      "metadata": {
        "id": "kfCmXz8VIrOf",
        "colab_type": "code",
        "colab": {}
      },
      "source": [
        "# imoort required for the salary prediction\n",
        "import numpy as np\n",
        "import pandas as pd\n",
        "import matplotlib.pyplot as plt\n",
        "from sklearn.linear_model import LinearRegression\n",
        "from sklearn.ensemble import  RandomForestRegressor\n",
        "from sklearn.metrics import mean_squared_error # calculating the error on predicting side"
      ],
      "execution_count": 0,
      "outputs": []
    },
    {
      "cell_type": "code",
      "metadata": {
        "id": "FYVW7MmhJF6a",
        "colab_type": "code",
        "colab": {
          "base_uri": "https://localhost:8080/",
          "height": 198
        },
        "outputId": "ab5c0039-fb20-4612-dc05-92efe1d0e3df"
      },
      "source": [
        "#Loading the data set\n",
        "df = pd.read_csv('https://raw.githubusercontent.com/payutech/salary/master/Salary_Data.csv')\n",
        "df.head()"
      ],
      "execution_count": 62,
      "outputs": [
        {
          "output_type": "execute_result",
          "data": {
            "text/html": [
              "<div>\n",
              "<style scoped>\n",
              "    .dataframe tbody tr th:only-of-type {\n",
              "        vertical-align: middle;\n",
              "    }\n",
              "\n",
              "    .dataframe tbody tr th {\n",
              "        vertical-align: top;\n",
              "    }\n",
              "\n",
              "    .dataframe thead th {\n",
              "        text-align: right;\n",
              "    }\n",
              "</style>\n",
              "<table border=\"1\" class=\"dataframe\">\n",
              "  <thead>\n",
              "    <tr style=\"text-align: right;\">\n",
              "      <th></th>\n",
              "      <th>YearsExperience</th>\n",
              "      <th>Salary</th>\n",
              "    </tr>\n",
              "  </thead>\n",
              "  <tbody>\n",
              "    <tr>\n",
              "      <th>0</th>\n",
              "      <td>1.1</td>\n",
              "      <td>39343.0</td>\n",
              "    </tr>\n",
              "    <tr>\n",
              "      <th>1</th>\n",
              "      <td>1.3</td>\n",
              "      <td>46205.0</td>\n",
              "    </tr>\n",
              "    <tr>\n",
              "      <th>2</th>\n",
              "      <td>1.5</td>\n",
              "      <td>37731.0</td>\n",
              "    </tr>\n",
              "    <tr>\n",
              "      <th>3</th>\n",
              "      <td>2.0</td>\n",
              "      <td>43525.0</td>\n",
              "    </tr>\n",
              "    <tr>\n",
              "      <th>4</th>\n",
              "      <td>2.2</td>\n",
              "      <td>39891.0</td>\n",
              "    </tr>\n",
              "  </tbody>\n",
              "</table>\n",
              "</div>"
            ],
            "text/plain": [
              "   YearsExperience   Salary\n",
              "0              1.1  39343.0\n",
              "1              1.3  46205.0\n",
              "2              1.5  37731.0\n",
              "3              2.0  43525.0\n",
              "4              2.2  39891.0"
            ]
          },
          "metadata": {
            "tags": []
          },
          "execution_count": 62
        }
      ]
    },
    {
      "cell_type": "code",
      "metadata": {
        "id": "vjzm1tDlXIKA",
        "colab_type": "code",
        "colab": {
          "base_uri": "https://localhost:8080/",
          "height": 34
        },
        "outputId": "a92fb0cf-c3c6-4c0e-809c-ecbfd1b0749b"
      },
      "source": [
        "df.shape"
      ],
      "execution_count": 79,
      "outputs": [
        {
          "output_type": "execute_result",
          "data": {
            "text/plain": [
              "(30, 2)"
            ]
          },
          "metadata": {
            "tags": []
          },
          "execution_count": 79
        }
      ]
    },
    {
      "cell_type": "code",
      "metadata": {
        "id": "5zVyUWJZXLIt",
        "colab_type": "code",
        "colab": {
          "base_uri": "https://localhost:8080/",
          "height": 288
        },
        "outputId": "f2fd12fc-4eac-44d0-f084-aaf3d8238551"
      },
      "source": [
        "df.describe()"
      ],
      "execution_count": 80,
      "outputs": [
        {
          "output_type": "execute_result",
          "data": {
            "text/html": [
              "<div>\n",
              "<style scoped>\n",
              "    .dataframe tbody tr th:only-of-type {\n",
              "        vertical-align: middle;\n",
              "    }\n",
              "\n",
              "    .dataframe tbody tr th {\n",
              "        vertical-align: top;\n",
              "    }\n",
              "\n",
              "    .dataframe thead th {\n",
              "        text-align: right;\n",
              "    }\n",
              "</style>\n",
              "<table border=\"1\" class=\"dataframe\">\n",
              "  <thead>\n",
              "    <tr style=\"text-align: right;\">\n",
              "      <th></th>\n",
              "      <th>YearsExperience</th>\n",
              "      <th>Salary</th>\n",
              "    </tr>\n",
              "  </thead>\n",
              "  <tbody>\n",
              "    <tr>\n",
              "      <th>count</th>\n",
              "      <td>30.000000</td>\n",
              "      <td>30.000000</td>\n",
              "    </tr>\n",
              "    <tr>\n",
              "      <th>mean</th>\n",
              "      <td>5.313333</td>\n",
              "      <td>76003.000000</td>\n",
              "    </tr>\n",
              "    <tr>\n",
              "      <th>std</th>\n",
              "      <td>2.837888</td>\n",
              "      <td>27414.429785</td>\n",
              "    </tr>\n",
              "    <tr>\n",
              "      <th>min</th>\n",
              "      <td>1.100000</td>\n",
              "      <td>37731.000000</td>\n",
              "    </tr>\n",
              "    <tr>\n",
              "      <th>25%</th>\n",
              "      <td>3.200000</td>\n",
              "      <td>56720.750000</td>\n",
              "    </tr>\n",
              "    <tr>\n",
              "      <th>50%</th>\n",
              "      <td>4.700000</td>\n",
              "      <td>65237.000000</td>\n",
              "    </tr>\n",
              "    <tr>\n",
              "      <th>75%</th>\n",
              "      <td>7.700000</td>\n",
              "      <td>100544.750000</td>\n",
              "    </tr>\n",
              "    <tr>\n",
              "      <th>max</th>\n",
              "      <td>10.500000</td>\n",
              "      <td>122391.000000</td>\n",
              "    </tr>\n",
              "  </tbody>\n",
              "</table>\n",
              "</div>"
            ],
            "text/plain": [
              "       YearsExperience         Salary\n",
              "count        30.000000      30.000000\n",
              "mean          5.313333   76003.000000\n",
              "std           2.837888   27414.429785\n",
              "min           1.100000   37731.000000\n",
              "25%           3.200000   56720.750000\n",
              "50%           4.700000   65237.000000\n",
              "75%           7.700000  100544.750000\n",
              "max          10.500000  122391.000000"
            ]
          },
          "metadata": {
            "tags": []
          },
          "execution_count": 80
        }
      ]
    },
    {
      "cell_type": "markdown",
      "metadata": {
        "id": "sPeAGpxfLLUn",
        "colab_type": "text"
      },
      "source": [
        "**Ploting the data and try to find the relation between the feature and the Label**\n"
      ]
    },
    {
      "cell_type": "code",
      "metadata": {
        "id": "P8NPxI9WJeQh",
        "colab_type": "code",
        "colab": {
          "base_uri": "https://localhost:8080/",
          "height": 334
        },
        "outputId": "8976e55d-1bbc-41b1-bf5f-3ab3c5e83adc"
      },
      "source": [
        "df_p = df # making a copy of df\n",
        "%matplotlib inline\n",
        "plt.figure(figsize=(8,5))\n",
        "plt.plot(df['YearsExperience'],df['Salary'])\n",
        "plt.xlabel('Years of Experience')\n",
        "plt.ylabel('Salary')\n",
        "plt.show()"
      ],
      "execution_count": 130,
      "outputs": [
        {
          "output_type": "display_data",
          "data": {
            "image/png": "[encoded data removed]",
            "text/plain": [
              "<Figure size 576x360 with 1 Axes>"
            ]
          },
          "metadata": {
            "tags": [],
            "needs_background": "light"
          }
        }
      ]
    },
    {
      "cell_type": "markdown",
      "metadata": {
        "id": "xu25jIVgLcU0",
        "colab_type": "text"
      },
      "source": [
        "\n",
        "\n",
        "The relation could be clearly seen as positive corelation between the features and the label ,therefore **Linear regression** would be ideal fit for the data available\n",
        "\n"
      ]
    },
    {
      "cell_type": "code",
      "metadata": {
        "id": "Dyhury8xLtw1",
        "colab_type": "code",
        "colab": {}
      },
      "source": [
        "np.random.seed(1)\n",
        "df_p = np.random.permutation(df_p)\n",
        "X_train = df_p[:,:1]\n",
        "y_train = df_p[:,-1:]\n",
        "\n",
        "from sklearn.model_selection import train_test_split\n",
        "X = df[['YearsExperience']]\n",
        "y= df['Salary']\n",
        "X_tr,X_te,y_tr,y_te  = train_test_split(X,y,test_size=.20,random_state=0)# taking 20% data as test data"
      ],
      "execution_count": 0,
      "outputs": []
    },
    {
      "cell_type": "code",
      "metadata": {
        "id": "kSjE6wxbMLnN",
        "colab_type": "code",
        "colab": {
          "base_uri": "https://localhost:8080/",
          "height": 52
        },
        "outputId": "53762483-f10b-4839-f9ac-0db1bf09f0f6"
      },
      "source": [
        "lr = LinearRegression()\n",
        "lr.fit(X_tr,y_tr)\n",
        "score_lr= lr.score(X_tr,y_tr)\n",
        "yhat = lr.predict(X_te) \n",
        "print('Score = ',score_lr)\n",
        "mse = np.sqrt(mean_squared_error(yhat,y_te))\n",
        "mse"
      ],
      "execution_count": 146,
      "outputs": [
        {
          "output_type": "stream",
          "text": [
            "Score =  0.9411949620562126\n"
          ],
          "name": "stdout"
        },
        {
          "output_type": "execute_result",
          "data": {
            "text/plain": [
              "3580.979237321343"
            ]
          },
          "metadata": {
            "tags": []
          },
          "execution_count": 146
        }
      ]
    },
    {
      "cell_type": "markdown",
      "metadata": {
        "id": "zlLJWr4Cb99Y",
        "colab_type": "text"
      },
      "source": [
        "**Insight**\n",
        "\n",
        "we receive a fit_side **score of 94%** and a mse of  **Rs 3580.97**\n",
        "\n",
        "this clearly means that this model predict the salary of candidate with error of **Rs 3580.97**."
      ]
    },
    {
      "cell_type": "code",
      "metadata": {
        "id": "h8hflnruZ68a",
        "colab_type": "code",
        "colab": {
          "base_uri": "https://localhost:8080/",
          "height": 52
        },
        "outputId": "d852bf56-492d-44a2-e274-cd8762dd3267"
      },
      "source": [
        "X_test = [[float(input('Enter the years of experience of the candidate ? =>'))]]\n",
        "y_pred = lr.predict(X_test)\n",
        "print('The salary of Rs {} is suited for {} years of experience and could be altered with addition or subtraction of Rs {}'.format(np.round(y_pred[0],2),X_test[0][0],np.round(mse,2)))#49417.11"
      ],
      "execution_count": 127,
      "outputs": [
        {
          "output_type": "stream",
          "text": [
            "Enter the years of experience of the candidate ? => 2.5\n",
            "The salary of Rs 50061.54 is suited for 2.5 years of experience and could be altered with additionor subtraction of Rs 3580.98\n"
          ],
          "name": "stdout"
        }
      ]
    },
    {
      "cell_type": "markdown",
      "metadata": {
        "id": "_uYQKJxgdtbD",
        "colab_type": "text"
      },
      "source": [
        "**The salary of Rs 50061.54 is suited for 2.5 years of experience and could be altered with additionor subtraction of Rs 3580.98**"
      ]
    },
    {
      "cell_type": "code",
      "metadata": {
        "id": "dLLEFoHUYA6z",
        "colab_type": "code",
        "colab": {}
      },
      "source": [
        ""
      ],
      "execution_count": 0,
      "outputs": []
    },
    {
      "cell_type": "code",
      "metadata": {
        "id": "aAw3csKxNds3",
        "colab_type": "code",
        "colab": {
          "base_uri": "https://localhost:8080/",
          "height": 52
        },
        "outputId": "2a743aee-6bca-4007-998b-eaff5300a370"
      },
      "source": [
        "rnd = RandomForestRegressor(random_state=0)\n",
        "# problem is not that complex therefore we will not use hyperparameters to train the model\n",
        "rnd.fit(X_tr,y_tr)\n",
        "score_rnd = rnd.score(X_tr,y_tr)\n",
        "print('Score = ', score_rnd)\n",
        "yhat = rnd.predict(X_te)\n",
        "mse_rnd= np.sqrt(mean_squared_error(yhat,y_te))\n",
        "print('mse_rnd = ',mse_rnd)"
      ],
      "execution_count": 147,
      "outputs": [
        {
          "output_type": "stream",
          "text": [
            "Score =  0.9865291759929378\n",
            "mse_rnd =  4714.18528745171\n"
          ],
          "name": "stdout"
        }
      ]
    },
    {
      "cell_type": "code",
      "metadata": {
        "id": "_XJpNRGPeJo-",
        "colab_type": "code",
        "colab": {
          "base_uri": "https://localhost:8080/",
          "height": 52
        },
        "outputId": "badc410b-f2a8-44bf-81eb-4103dca8193e"
      },
      "source": [
        "X_test = [[float(input('Enter the years of experience of the candidate ? =>'))]]\n",
        "y_pred= rnd.predict(X_test) \n",
        "print('The salary of Rs {} is suited for {} years of experience and could be altered with addition or subtraction of Rs {}'.format(np.round(y_pred[0],2),X_test[0][0],np.round(mse_rnd,2)))#49417.11"
      ],
      "execution_count": 145,
      "outputs": [
        {
          "output_type": "stream",
          "text": [
            "Enter the years of experience of the candidate ? =>2.5\n",
            "The salary of Rs 44043.6 is suited for 2.5 years of experience and could be altered with addition or subtraction of Rs 4714.19\n"
          ],
          "name": "stdout"
        }
      ]
    },
    {
      "cell_type": "code",
      "metadata": {
        "id": "K-a8BygfOGFe",
        "colab_type": "code",
        "colab": {}
      },
      "source": [
        "mse_bar = [mse,mse_rnd]\n",
        "score_bar = [score_lr,score_rnd]"
      ],
      "execution_count": 0,
      "outputs": []
    },
    {
      "cell_type": "code",
      "metadata": {
        "id": "6wVn3WJ1O9vW",
        "colab_type": "code",
        "colab": {
          "base_uri": "https://localhost:8080/",
          "height": 321
        },
        "outputId": "fc5ea041-bf11-4f4d-f911-4735b9205650"
      },
      "source": [
        "plt.figure(figsize=(5,5))\n",
        "ax = plt.subplot(111)\n",
        "ax.bar(x=['Linear_regression','Random_forest'],height=mse_bar)\n",
        "plt.ylabel('MSE',color='b')\n",
        "ax2 = ax.twinx()\n",
        "ax2.bar(x=['Linear_reg','Random_forest'],height=score_bar,color='g')\n",
        "plt.yticks(np.arange(0,1,.05))\n",
        "plt.ylabel('fit_side_score',color='r')\n",
        "plt.show()"
      ],
      "execution_count": 180,
      "outputs": [
        {
          "output_type": "display_data",
          "data": {
            "image/png": "[encoded data removed]",
            "text/plain": [
              "<Figure size 360x360 with 2 Axes>"
            ]
          },
          "metadata": {
            "tags": [],
            "needs_background": "light"
          }
        }
      ]
    },
    {
      "cell_type": "markdown",
      "metadata": {
        "id": "ZoORg6Cel7jn",
        "colab_type": "text"
      },
      "source": [
        "Clearly **Random forest model is the winner** in determining most accurately. "
      ]
    },
    {
      "cell_type": "code",
      "metadata": {
        "id": "40Vc_R3BPvhf",
        "colab_type": "code",
        "colab": {}
      },
      "source": [
        "\n"
      ],
      "execution_count": 0,
      "outputs": []
    },
    {
      "cell_type": "code",
      "metadata": {
        "id": "nGsSpv0_TwsT",
        "colab_type": "code",
        "colab": {}
      },
      "source": [
        ""
      ],
      "execution_count": 0,
      "outputs": []
    }
  ]
}